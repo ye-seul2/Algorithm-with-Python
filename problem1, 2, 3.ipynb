{
 "cells": [
  {
   "cell_type": "markdown",
   "metadata": {},
   "source": [
    "# 들어가는 글"
   ]
  },
  {
   "cell_type": "markdown",
   "metadata": {},
   "source": [
    "절댓값 구하기 알고리즘"
   ]
  },
  {
   "cell_type": "code",
   "execution_count": 12,
   "metadata": {},
   "outputs": [
    {
     "name": "stdout",
     "output_type": "stream",
     "text": [
      "5\n",
      "3\n",
      "\n",
      "5.0\n",
      "3.0\n"
     ]
    }
   ],
   "source": [
    "import math     # 수학 모듈 사용\n",
    "\n",
    "# 절댓값 알고리즘 1(부호판단)\n",
    "# 입력: 실수 a\n",
    "# 출력: a의 절댓값\n",
    "\n",
    "def abs_sign(a):\n",
    "    if a>= 0:\n",
    "        return a\n",
    "    else:\n",
    "        return -a\n",
    "\n",
    "\n",
    "# 절댓값 알고리즘 2(제곱-제곱근)\n",
    "# 입력: 실수 a\n",
    "# 출력: a의 절댓값\n",
    "\n",
    "def abs_square(a):\n",
    "    b = a * a\n",
    "    return math.sqrt(b)     # 수학 모듈의 제곱근 함수\n",
    "\n",
    "print(abs_sign(5))\n",
    "print(abs_sign(-3))\n",
    "print()\n",
    "print(abs_square(5))\n",
    "print(abs_square(-3))"
   ]
  },
  {
   "cell_type": "markdown",
   "metadata": {},
   "source": [
    "# 문제 01 : 1부터 n까지의 합 구하기"
   ]
  },
  {
   "cell_type": "markdown",
   "metadata": {},
   "source": [
    "1부터 n까지 연속한 숫자의 합을 구하는 알고리즘 1"
   ]
  },
  {
   "cell_type": "code",
   "execution_count": 11,
   "metadata": {},
   "outputs": [
    {
     "name": "stdout",
     "output_type": "stream",
     "text": [
      "55\n",
      "5050\n"
     ]
    }
   ],
   "source": [
    "# 1부터 n까지 연속한 숫자의 합을 구하는 알고리즘 1\n",
    "# 입력 : n\n",
    "# 출력 : 1부터 n까지의 숫자를 더한 값\n",
    "\n",
    "def sum_n(n):\n",
    "    s = 0       #합을 계산할 변수\n",
    "    for i in range(1, n + 1): # 1부터 n까지 반복(n + 1은 제외)\n",
    "        s = s + i\n",
    "    return s\n",
    "\n",
    "print(sum_n(10))    # 1부터 10까지의 합(입력: 10, 출력: 55)\n",
    "print(sum_n(100))    # 1부터 100까지의 합(입력: 10, 출력: 5050)"
   ]
  },
  {
   "cell_type": "markdown",
   "metadata": {},
   "source": [
    "1부터 n까지 연속한 숫자의 합을 구하는 알고리즘 2"
   ]
  },
  {
   "cell_type": "code",
   "execution_count": 1,
   "metadata": {},
   "outputs": [
    {
     "name": "stdout",
     "output_type": "stream",
     "text": [
      "55\n",
      "5050\n"
     ]
    }
   ],
   "source": [
    "# 1부터 n까지 연속한 숫자의 합을 구하는 알고리즘 2\n",
    "# 입력 : n\n",
    "# 출력 : 1부터 n까지의 숫자를 더한 값\n",
    "\n",
    "def sum_n(n):\n",
    "    return n * (n + 1) // 2     # 슬래시 두 개(//)는 정수 나눗셈을 의미\n",
    "\n",
    "print(sum_n(10))    # 1부터 10까지의 합(입력: 10, 출력: 55)\n",
    "print(sum_n(100))    # 1부터 100까지의 합(입력: 10, 출력: 5050) "
   ]
  },
  {
   "cell_type": "markdown",
   "metadata": {},
   "source": [
    "## 연습문제"
   ]
  },
  {
   "cell_type": "markdown",
   "metadata": {},
   "source": [
    "### 1-1\n",
    "\n",
    "1부터 n까지 연속한 숫자의 제곱의 합을 구하는 프로그램"
   ]
  },
  {
   "cell_type": "code",
   "execution_count": 2,
   "metadata": {},
   "outputs": [
    {
     "name": "stdout",
     "output_type": "stream",
     "text": [
      "385\n",
      "338350\n"
     ]
    }
   ],
   "source": [
    "# 연속한 숫자의 제곱의 합을 구하는 알고리즘\n",
    "# 입력 : n\n",
    "# 출력 : 1부터 n까지 연속한 숫자의 제곱을 더한 값\n",
    "\n",
    "def sum_sq(n):\n",
    "    s = 0\n",
    "    for i in range(1, n + 1):\n",
    "        s = s + (i * i)\n",
    "    \n",
    "    return s\n",
    "\n",
    "print(sum_sq(10))   # 1부터 10까지 제곱의 합(입력 : 10, 출력: 385)\n",
    "print(sum_sq(100))   # 1부터 10까지 제곱의 합(입력 : 100, 출력: 338350)"
   ]
  },
  {
   "cell_type": "markdown",
   "metadata": {},
   "source": [
    "### 1-3\n",
    "\n"
   ]
  },
  {
   "cell_type": "code",
   "execution_count": 13,
   "metadata": {},
   "outputs": [
    {
     "name": "stdout",
     "output_type": "stream",
     "text": [
      "385\n",
      "338350\n"
     ]
    }
   ],
   "source": [
    "# 연속한 숫자의 제곱의 합을 구하는 알고리즘\n",
    "# 입력 : n\n",
    "# 출력 : 1부터 n까지 연속한 숫자의 제곱을 더한 값\n",
    "\n",
    "def sum_sq(n):\n",
    "    \n",
    "    return n * (n + 1) * (2 * n + 1) // 6\n",
    "\n",
    "print(sum_sq(10))   # 1부터 10까지 제곱의 합(입력 : 10, 출력: 385)\n",
    "print(sum_sq(100))   # 1부터 10까지 제곱의 합(입력 : 100, 출력: 338350)"
   ]
  },
  {
   "cell_type": "markdown",
   "metadata": {},
   "source": [
    "# 문제 02 : 최댓값 찾기"
   ]
  },
  {
   "cell_type": "markdown",
   "metadata": {},
   "source": [
    "최댓값을 구하는 알고리즘"
   ]
  },
  {
   "cell_type": "code",
   "execution_count": 3,
   "metadata": {},
   "outputs": [
    {
     "name": "stdout",
     "output_type": "stream",
     "text": [
      "92\n"
     ]
    }
   ],
   "source": [
    "# 최댓값 구하기\n",
    "# 입력: 숫자가 n개 들어 있는 리스트\n",
    "# 출력: 숫자 n개 중 최댓값\n",
    "\n",
    "def find_max(a):\n",
    "    n = len(a)      # 입력 크기 n\n",
    "    max_v = a[0]    # 리스트의 첫 번째 값을 최댓값으로 기억\n",
    "    for i in range(1, n):   # 1부터 n-1까지 반복\n",
    "        if a[i] > max_v:    # 이번 값이 현재까지 기억된 최댓값보다 크면\n",
    "            max_v = a[i]    # 최댓값을 변경\n",
    "    return max_v\n",
    "\n",
    "v = [17, 92, 18, 33, 58, 7, 33, 42]\n",
    "print(find_max(v))"
   ]
  },
  {
   "cell_type": "markdown",
   "metadata": {},
   "source": [
    "리스트에 숫자가 n개 있을 때 가장 큰 값이 있는 위치 번호를 돌려주는 알고리즘"
   ]
  },
  {
   "cell_type": "code",
   "execution_count": 4,
   "metadata": {},
   "outputs": [
    {
     "name": "stdout",
     "output_type": "stream",
     "text": [
      "1\n"
     ]
    }
   ],
   "source": [
    "# 최댓값의 위치 구하기\n",
    "# 입력: 숫자가 n개 들어 있는 리스트\n",
    "# 출력: 숫자 n개 중에서 최댓값이 있는 위치(0부터 n-1까지의 값)\n",
    "\n",
    "def find_max_idx(a):\n",
    "    n = len(a)\n",
    "    max_idx = 0\n",
    "    for i in range(1, n):\n",
    "        if a[i] > a[max_idx]:\n",
    "            max_idx = i\n",
    "    return max_idx\n",
    "\n",
    "v = [17, 92, 18, 33, 58, 7, 33, 42]\n",
    "print(find_max_idx(v))"
   ]
  },
  {
   "cell_type": "markdown",
   "metadata": {},
   "source": [
    "## 연습문제"
   ]
  },
  {
   "cell_type": "markdown",
   "metadata": {},
   "source": [
    "### 2-1\n",
    "\n",
    "숫자 n개를 리스트로 입력받아 최솟값을 구하는 프로그램"
   ]
  },
  {
   "cell_type": "code",
   "execution_count": 6,
   "metadata": {},
   "outputs": [
    {
     "name": "stdout",
     "output_type": "stream",
     "text": [
      "7\n"
     ]
    }
   ],
   "source": [
    "# 최솟값 구하기\n",
    "# 입력: 숫자가 n개 들어 있는 리스트\n",
    "# 출력: 숫자 n개 중 최솟값\n",
    "\n",
    "def find_min(a):\n",
    "    n = len(a)      # 입력 크기 n\n",
    "    min_v = a[0]    # 리스트의 첫 번째 값을 최솟값으로 기억\n",
    "    for i in range(1, n):   # 1부터 n-1까지 반복\n",
    "        if a[i] < min_v:    # 이번 값이 현재까지 기억된 최솟값보다 작으면\n",
    "            min_v = a[i]    # 최솟값을 변경\n",
    "    return min_v\n",
    "\n",
    "v = [17, 92, 18, 33, 58, 7, 33, 42]\n",
    "print(find_min(v))"
   ]
  },
  {
   "cell_type": "markdown",
   "metadata": {},
   "source": [
    "# 문제 03: 동명이인을 찾는 알고리즘"
   ]
  },
  {
   "cell_type": "code",
   "execution_count": 8,
   "metadata": {},
   "outputs": [
    {
     "name": "stdout",
     "output_type": "stream",
     "text": [
      "{'Tom'}\n",
      "{'Tom', 'Mike'}\n"
     ]
    }
   ],
   "source": [
    "# 두 번 이상 나온 이름 찾기\n",
    "# 입력: 이름이 n개 들어 있는 리스트\n",
    "# 출력: 이름 n개 중 반복되는 이름의 집합\n",
    "\n",
    "def find_same_name(a):\n",
    "    n = len(a)      # 리스트의 자료 개수를 n에 저장\n",
    "    result = set()  # 결과를 저장할 빈 집합\n",
    "    for i in range(0, n-1): # 0부터 n-2까지 반복\n",
    "        for j in range(i+1, n): # i+1부터 n-1까지 반복\n",
    "            if a[i] == a[j]:    # 이름이 같으면\n",
    "                result.add(a[i])    # 찾은 이름을 result에 추가\n",
    "    return result\n",
    "\n",
    "name = [\"Tom\", \"Jerry\", \"Mike\", \"Tom\"]      # 대소문자 유의: 파이썬은 대소문자를 구분함\n",
    "print(find_same_name(name))\n",
    "\n",
    "name2 = [\"Tom\", \"Jerry\", \"Mike\", \"Tom\", \"Mike\"]\n",
    "print(find_same_name(name2))\n"
   ]
  },
  {
   "cell_type": "markdown",
   "metadata": {},
   "source": [
    "## 연습문제\n",
    "\n",
    "### 3-1"
   ]
  },
  {
   "cell_type": "markdown",
   "metadata": {},
   "source": [
    "n명 중 두 명을 뽑아 짝을 짓는다고 할 때 짝을 지을 수 있는 모든 조합을 출력하는 알고리즘"
   ]
  },
  {
   "cell_type": "code",
   "execution_count": 10,
   "metadata": {},
   "outputs": [
    {
     "name": "stdout",
     "output_type": "stream",
     "text": [
      "Tom - Jerry\n",
      "Tom - Mike\n",
      "Jerry - Mike\n",
      "\n",
      "Tom - Jerry\n",
      "Tom - Mike\n",
      "Tom - John\n",
      "Jerry - Mike\n",
      "Jerry - John\n",
      "Mike - John\n"
     ]
    }
   ],
   "source": [
    "# n명에서 두 명을 뽑아 짝으로 만드는 모든 경우를 찾는 알고리즘\n",
    "# 입력: n명의 이름이 들어 있는 리스트\n",
    "# 출력: 두 명을 뽑아 만들 수 있는 모든 짝\n",
    "\n",
    "def print_pairs(a):\n",
    "    n = len(a)\n",
    "    for i in range(0, n-1):\n",
    "        for j in range(i+1, n):\n",
    "            print(a[i], \"-\", a[j])\n",
    "\n",
    "\n",
    "name = [\"Tom\", \"Jerry\", \"Mike\"]\n",
    "print_pairs(name)\n",
    "print()\n",
    "name2 = [\"Tom\", \"Jerry\", \"Mike\", \"John\"]\n",
    "print_pairs(name2)\n"
   ]
  }
 ],
 "metadata": {
  "kernelspec": {
   "display_name": "Python 3.10.8 64-bit",
   "language": "python",
   "name": "python3"
  },
  "language_info": {
   "codemirror_mode": {
    "name": "ipython",
    "version": 3
   },
   "file_extension": ".py",
   "mimetype": "text/x-python",
   "name": "python",
   "nbconvert_exporter": "python",
   "pygments_lexer": "ipython3",
   "version": "3.10.8"
  },
  "orig_nbformat": 4,
  "vscode": {
   "interpreter": {
    "hash": "459379b0327d72ca66be0fe01f6908cca082871864cba1a5058123f25a1566bd"
   }
  }
 },
 "nbformat": 4,
 "nbformat_minor": 2
}
