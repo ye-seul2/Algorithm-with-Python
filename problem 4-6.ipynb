{
 "cells": [
  {
   "cell_type": "markdown",
   "metadata": {},
   "source": [
    "# 문제 04 팩토리얼 구하기"
   ]
  },
  {
   "cell_type": "markdown",
   "metadata": {},
   "source": [
    "### 팩토리얼을 구하는 알고리즘 1"
   ]
  },
  {
   "cell_type": "code",
   "execution_count": 1,
   "metadata": {},
   "outputs": [
    {
     "name": "stdout",
     "output_type": "stream",
     "text": [
      "1\n",
      "120\n",
      "3628800\n"
     ]
    }
   ],
   "source": [
    "# 연속한 숫자의 곱을 귀하는 알고리즘\n",
    "# 입력: n\n",
    "# 출력: 1부터 n까지 연속한 숫자를 곱한 값\n",
    "\n",
    "def fact(n):\n",
    "    f =1        # 곱을 계산할 변수, 초깃값은 1\n",
    "    for i in range(1, n+1):     # 1부터 n까지 반복(n+1은 제외)\n",
    "        f = f * i       # 곱셈 연산으로 수정\n",
    "    return f\n",
    "\n",
    "print(fact(1))      # 1! = 1\n",
    "print(fact(5))      # 5! = 120\n",
    "print(fact(10))      # 10! = 3628800"
   ]
  },
  {
   "cell_type": "markdown",
   "metadata": {},
   "source": [
    "### 재귀 호출 : 다시 돌아가 부르기"
   ]
  },
  {
   "cell_type": "code",
   "execution_count": null,
   "metadata": {},
   "outputs": [],
   "source": [
    "def hello():\n",
    "    print(\"hello\")\n",
    "    hello()     # hello() 함수 안에서 다시 hello()를 호출\n",
    "\n",
    "hello()     # hello() 함수를 호출"
   ]
  },
  {
   "cell_type": "markdown",
   "metadata": {},
   "source": [
    "### 팩토리얼을 구하는 알고리즘 2"
   ]
  },
  {
   "cell_type": "code",
   "execution_count": 2,
   "metadata": {},
   "outputs": [
    {
     "name": "stdout",
     "output_type": "stream",
     "text": [
      "1\n",
      "120\n",
      "3628800\n"
     ]
    }
   ],
   "source": [
    "# 연속한 숫자의 곱을 귀하는 알고리즘\n",
    "# 입력: n\n",
    "# 출력: 1부터 n까지 연속한 숫자를 곱한 값\n",
    "\n",
    "def fact(n):\n",
    "    if n <= 1:\n",
    "        return 1\n",
    "    return n * fact(n-1)\n",
    "\n",
    "print(fact(1))      # 1! = 1\n",
    "print(fact(5))      # 5! = 120\n",
    "print(fact(10))      # 10! = 3628800"
   ]
  },
  {
   "cell_type": "markdown",
   "metadata": {},
   "source": [
    "재귀 호출의 일반적인 형태"
   ]
  },
  {
   "cell_type": "code",
   "execution_count": null,
   "metadata": {},
   "outputs": [],
   "source": [
    "def func(입력 값):\n",
    "\tif 입력 값이 충분히 작으면:    # 종료 조건\n",
    "\t...\n",
    "\tfunc(더 작은 입력 값)    # 더 작은 값으로 자기 자신을 호출\n",
    "\t...\n",
    "\treturn 결과값"
   ]
  },
  {
   "cell_type": "markdown",
   "metadata": {},
   "source": [
    "# 연습문제"
   ]
  },
  {
   "cell_type": "markdown",
   "metadata": {},
   "source": [
    "1부터 n까지의 합 구하기를 재귀 호출로"
   ]
  },
  {
   "cell_type": "code",
   "execution_count": 3,
   "metadata": {},
   "outputs": [
    {
     "name": "stdout",
     "output_type": "stream",
     "text": [
      "55\n",
      "5050\n"
     ]
    }
   ],
   "source": [
    "# 연속한 숫자의 합을 구하는 알고리즘\n",
    "# 입력: n\n",
    "# 출력: 1부터 n까지 연속한 숫자를 더한 값\n",
    "\n",
    "def sum_n(n):\n",
    "    if n == 0:\n",
    "        return 0\n",
    "    return sum_n(n-1) + n\n",
    "\n",
    "print(sum_n(10))    # 1부터 10까지의 합(입력: 10, 출력: 55)\n",
    "print(sum_n(100))    # 1부터 100까지의 합(입력: 100, 출력: 5050)"
   ]
  },
  {
   "cell_type": "markdown",
   "metadata": {},
   "source": [
    "숫자 n개 중에서 최댓값 찾기를 재귀 호출로"
   ]
  },
  {
   "cell_type": "code",
   "execution_count": 6,
   "metadata": {},
   "outputs": [
    {
     "name": "stdout",
     "output_type": "stream",
     "text": [
      "92\n"
     ]
    }
   ],
   "source": [
    "# 최댓값 구하기\n",
    "# 입력: 숫자가 n개 들어 있는 리스트\n",
    "# 출력: 숫자 n개 중 최댓값\n",
    "\n",
    "def find_max(a,n):  # 리스트 a의 앞부분 n개 중 최댓값을 구하는 재귀 함수\n",
    "    if n == 1:\n",
    "        return a[0]\n",
    "    \n",
    "    max_n_1 = find_max(a, n-1)  # n-1개 중 최댓값을 구함\n",
    "\n",
    "    if max_n_1 > a[n-1]:    # n-1개 중 최댓값과 n-1번 위치 값을 비교\n",
    "        return max_n_1\n",
    "    else:\n",
    "        return a[n-1]\n",
    "    \n",
    "\n",
    "v = [17, 92, 18, 33, 58, 7, 33, 42]\n",
    "print(find_max(v, len(v)))  # 함수에 리스트의 자료 개수를 인자로 추가하여 호출"
   ]
  },
  {
   "cell_type": "markdown",
   "metadata": {},
   "source": [
    "# 문제 05 최대공약수 구하기"
   ]
  },
  {
   "cell_type": "markdown",
   "metadata": {},
   "source": [
    "### 최대공약수를 구하는 알고리즘"
   ]
  },
  {
   "cell_type": "code",
   "execution_count": 8,
   "metadata": {},
   "outputs": [
    {
     "name": "stdout",
     "output_type": "stream",
     "text": [
      "1\n",
      "3\n",
      "12\n",
      "27\n"
     ]
    }
   ],
   "source": [
    "# 최대공약수 구하기\n",
    "# 입력: a, b\n",
    "# 출력: a와 b의 최대공약수\n",
    "\n",
    "def gcd(a,b):\n",
    "    i = min(a, b)   # 두 수 중에서 최솟값을 구하는 파이썬 함수\n",
    "    while True:\n",
    "        if a % i == 0 and b % i == 0:\n",
    "            return i\n",
    "        i = i - 1    # i를 1만큼 감소시킴\n",
    "\n",
    "print(gcd(1, 5))    # 1\n",
    "print(gcd(3, 6))    # 3\n",
    "print(gcd(60, 24))    # 12\n",
    "print(gcd(81, 27))    # 27"
   ]
  },
  {
   "cell_type": "markdown",
   "metadata": {},
   "source": [
    "### 유클리드 방식을 이용해 최대공약수를 구하는 알고리즘"
   ]
  },
  {
   "cell_type": "code",
   "execution_count": 9,
   "metadata": {},
   "outputs": [
    {
     "name": "stdout",
     "output_type": "stream",
     "text": [
      "1\n",
      "3\n",
      "12\n",
      "27\n"
     ]
    }
   ],
   "source": [
    "# 최대공약수 구하기\n",
    "# 입력: a\n",
    "# 출력: a와 b의 최대공약수\n",
    "\n",
    "def gcd(a, b):\n",
    "    if b == 0:  # 종료 조건\n",
    "        return a\n",
    "    return gcd(b, a % b)    # 좀 더 작은 값으로 자기 자신을 호출\n",
    "\n",
    "print(gcd(1, 5))    # 1\n",
    "print(gcd(3, 6))    # 3\n",
    "print(gcd(60, 24))    # 12\n",
    "print(gcd(81, 27))    # 27"
   ]
  },
  {
   "cell_type": "markdown",
   "metadata": {},
   "source": [
    "# 연습문제"
   ]
  },
  {
   "cell_type": "markdown",
   "metadata": {},
   "source": [
    "### n번째 피보나치 수를 구하는 알고리즘"
   ]
  },
  {
   "cell_type": "code",
   "execution_count": 10,
   "metadata": {},
   "outputs": [
    {
     "name": "stdout",
     "output_type": "stream",
     "text": [
      "13\n",
      "55\n"
     ]
    }
   ],
   "source": [
    "# n번째 피보나치 수열 찾기\n",
    "# 입력: n 값(0부터 시작)\n",
    "# 출력: n번쨰 피보나치 수열 값\n",
    "\n",
    "def fibo(n):\n",
    "    if n <= 1:\n",
    "        return n    # n = 0 -> 0 | n =1 -> 1\n",
    "    return fibo(n-2) + fibo(n-1)\n",
    "\n",
    "print(fibo(7))\n",
    "print(fibo(10))"
   ]
  },
  {
   "cell_type": "markdown",
   "metadata": {},
   "source": [
    "# 문제 06 하노이의 탑 옮기기"
   ]
  },
  {
   "cell_type": "markdown",
   "metadata": {},
   "source": [
    "### 하노이의 탑 알고리즘"
   ]
  },
  {
   "cell_type": "code",
   "execution_count": 12,
   "metadata": {},
   "outputs": [
    {
     "name": "stdout",
     "output_type": "stream",
     "text": [
      "n=1\n",
      "1 -> 3\n",
      "\n",
      "n=2\n",
      "1 -> 2\n",
      "1 -> 3\n",
      "2 -> 3\n",
      "\n",
      "n=3\n",
      "1 -> 3\n",
      "1 -> 2\n",
      "3 -> 2\n",
      "1 -> 3\n",
      "2 -> 1\n",
      "2 -> 3\n",
      "1 -> 3\n"
     ]
    }
   ],
   "source": [
    "# 하노이의 탑\n",
    "# 입력: 옮기려는 원반의 개수 n\n",
    "#      옮길 원반이 현재 있는 출발점 기둥 from_pos\n",
    "#      원반을 옮길 도착점 기둥 to_pos\n",
    "#      옮기는 과정에서 사용할 보조 기둥 aux_pos\n",
    "# 출력: 원반을 옮기는 순서\n",
    "\n",
    "def hanoi(n, from_pos, to_pos, aux_pos):\n",
    "    if n == 1:  #원반 한 개를 옮기는 문제면 그냥 옮기면 됨\n",
    "        print(from_pos, \"->\", to_pos)\n",
    "        return\n",
    "    \n",
    "\n",
    "    # 원반 n-1개를 aux_pos로 이동(to_pos를 보조 기둥으로)\n",
    "    hanoi(n-1, from_pos, aux_pos, to_pos)\n",
    "    # 가장 큰 원반을 목적지로 이동\n",
    "    print(from_pos, \"->\", to_pos)\n",
    "    # aux_pos에 있는 원반 n-1개를 목적지로 이동(from_pos를 보조 기둥으로)\n",
    "    hanoi(n-1, aux_pos, to_pos, from_pos)\n",
    "\n",
    "print(\"n=1\")\n",
    "hanoi(1, 1, 3, 2)   #원반 한 개를 1번 기둥에서 3번 기둥으로 이동(2번을 보조 기둥으로)\n",
    "print()\n",
    "\n",
    "print(\"n=2\")\n",
    "hanoi(2, 1, 3, 2)   #원반 두 개를 1번 기둥에서 3번 기둥으로 이동(2번을 보조 기둥으로)\n",
    "print()\n",
    "\n",
    "print(\"n=3\")\n",
    "hanoi(3, 1, 3, 2)   #원반 세 개를 1번 기둥에서 3번 기둥으로 이동(2번을 보조 기둥으로)"
   ]
  },
  {
   "cell_type": "markdown",
   "metadata": {},
   "source": [
    "# 연습 문제"
   ]
  },
  {
   "cell_type": "code",
   "execution_count": 16,
   "metadata": {},
   "outputs": [],
   "source": [
    "# 재귀 호출을 이용한 사각 나선 그리기\n",
    "import turtle as t\n",
    "\n",
    "def spiral(sp_len):\n",
    "    if sp_len <= 5:\n",
    "        return\n",
    "    t.forward(sp_len)\n",
    "    t.right(90)\n",
    "    spiral(sp_len - 5)\n",
    "\n",
    "t.speed(0)\n",
    "spiral(200)\n",
    "t.hideturtle()\n",
    "t.done()"
   ]
  },
  {
   "cell_type": "code",
   "execution_count": 3,
   "metadata": {},
   "outputs": [
    {
     "data": {
      "text/plain": [
       "<function turtle.mainloop()>"
      ]
     },
     "execution_count": 3,
     "metadata": {},
     "output_type": "execute_result"
    },
    {
     "ename": "",
     "evalue": "",
     "output_type": "error",
     "traceback": [
      "\u001b[1;31m현재 셀 또는 이전 셀에서 코드를 실행하는 동안 Kernel이 충돌했습니다. 셀의 코드를 검토하여 오류의 가능한 원인을 식별하세요. 자세한 내용을 보려면 <a href='https://aka.ms/vscodeJupyterKernelCrash'> 여기 </a> 를 클릭하세요. 자세한 내용은 Jupyter <a href='command:jupyter.viewOutput'>로그</a>를 참조하세요."
     ]
    }
   ],
   "source": [
    "# 재귀 호출을 이용한 시에르핀스키(sierpinski)의 삼각형 그리기\n",
    "import turtle as t\n",
    "\n",
    "def tri(tri_len):\n",
    "    if tri_len <= 10:\n",
    "        for i in range(0, 3):\n",
    "            t.forward(tri_len)\n",
    "            t.left(120)\n",
    "        return\n",
    "        \n",
    "    new_len = tri_len / 2\n",
    "    tri(new_len)\n",
    "    t.forward(new_len)\n",
    "    tri(new_len)\n",
    "    t.backward(new_len)\n",
    "    t.left(60)\n",
    "    t.forward(new_len)\n",
    "    t.right(60)\n",
    "    tri(new_len)\n",
    "    t.left(60)\n",
    "    t.backward(new_len)\n",
    "    t.right(60)\n",
    "\n",
    "t.speed(0)\n",
    "tri(160)\n",
    "t.hideturtle()\n",
    "t.done"
   ]
  },
  {
   "cell_type": "code",
   "execution_count": 1,
   "metadata": {},
   "outputs": [],
   "source": [
    "# 재귀 호출을 이용한 나무 모형 그리기\n",
    "import turtle as t\n",
    "\n",
    "def tree(br_len):\n",
    "    if br_len <= 5:\n",
    "        return\n",
    "    \n",
    "    new_len = br_len * 0.7\n",
    "    t.forward(br_len)\n",
    "    t.right(20)\n",
    "    tree(new_len)\n",
    "    t.left(40)\n",
    "    tree(new_len)\n",
    "    t.right(20)\n",
    "    t.backward(br_len)\n",
    "\n",
    "t.speed(0)\n",
    "t.left(90)\n",
    "tree(70)\n",
    "t.hideturtle()\n",
    "t.done()"
   ]
  },
  {
   "cell_type": "code",
   "execution_count": 1,
   "metadata": {},
   "outputs": [],
   "source": [
    "# 재귀 호출을 이용한 눈꽃 그리기\n",
    "import turtle as t\n",
    "\n",
    "def snow_line(snow_len):\n",
    "    if snow_len <= 10:\n",
    "        t.forward(snow_len)\n",
    "        return\n",
    "    new_len = snow_len / 3\n",
    "    snow_line(new_len)\n",
    "    t.left(60)\n",
    "    snow_line(new_len)\n",
    "    t.right(120)\n",
    "    snow_line(new_len)\n",
    "    t.left(60)\n",
    "    snow_line(new_len)\n",
    "\n",
    "t.speed(0)\n",
    "snow_line(150)\n",
    "t.right(120)\n",
    "snow_line(150)\n",
    "t.right(120)\n",
    "snow_line(150)\n",
    "t.hideturtle()\n",
    "t.done()"
   ]
  }
 ],
 "metadata": {
  "kernelspec": {
   "display_name": "Python 3.10.8 64-bit",
   "language": "python",
   "name": "python3"
  },
  "language_info": {
   "codemirror_mode": {
    "name": "ipython",
    "version": 3
   },
   "file_extension": ".py",
   "mimetype": "text/x-python",
   "name": "python",
   "nbconvert_exporter": "python",
   "pygments_lexer": "ipython3",
   "version": "3.10.8"
  },
  "orig_nbformat": 4,
  "vscode": {
   "interpreter": {
    "hash": "459379b0327d72ca66be0fe01f6908cca082871864cba1a5058123f25a1566bd"
   }
  }
 },
 "nbformat": 4,
 "nbformat_minor": 2
}
