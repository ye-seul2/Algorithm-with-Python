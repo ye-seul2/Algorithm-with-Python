{
 "cells": [
  {
   "cell_type": "markdown",
   "metadata": {},
   "source": [
    "# 문제 16 미로 찾기 알고리즘"
   ]
  },
  {
   "cell_type": "markdown",
   "metadata": {},
   "source": [
    "### 미로 찾기 알고리즘"
   ]
  },
  {
   "cell_type": "code",
   "execution_count": 4,
   "metadata": {},
   "outputs": [
    {
     "name": "stdout",
     "output_type": "stream",
     "text": [
      "aeimnjfghlp\n"
     ]
    }
   ],
   "source": [
    "# 미로 찾기 프로그램(그래프 탐색)\n",
    "# 입력: 미로 정보 g, 출발점 start, 도착점 end\n",
    "# 출력: 미로를 나가기 위한 이동 경로는 문자열, 나갈 수 없는 미로면 물음표(\"?\")\n",
    "\n",
    "def solve_maze(g, start, end):\n",
    "    qu = []     # 기억 장소 1: 앞으로 처리해야 할 이동 경로를 큐에 저장\n",
    "    done = set()    # 기억 장소 2: 이미 큐에 추가한 꼭짓점들을 집합에 기록(중복 방지)\n",
    "\n",
    "    qu.append(start)    # 출발점을 큐에 넣고 시작\n",
    "    done.add(start)     # 집합에도 추가\n",
    "\n",
    "    while qu:       # 큐에 처리할 경로가 남아 있으면\n",
    "        p = qu.pop(0)   # 큐에서 처리 대상을 꺼냄\n",
    "        v = p[-1]       # 큐에 저장된 이동 경로의 마지막 문자가 현재 처리해야 할 꼭짓점\n",
    "        if v == end:    # 처리해야 할 꼭짓점이 도착점이면(목적지 도착!)\n",
    "            return p    # 지금까지의 전체 이동  경로를 돌려주고 종료\n",
    "        for x in g[v]:  # 대상 꼭짓점에 연결된 꼭짓점들 중에\n",
    "            if x not in done:   # 아직 큐에 추가된 적이 없는 꼭짓점을\n",
    "                qu.append(p + x)    # 이동 경로에 새 꼭짓점으로 추가하여 큐에 저장하고\n",
    "                done.add(x)         # 집합에도 추가\n",
    "\n",
    "    # 탐색을 마칠 때까지 도착점이 나오지 않으면 나갈 수 없는 미로임\n",
    "    return \"?\"\n",
    "\n",
    "# 미로 정보\n",
    "# 미로의 각 위치에 알파벳으로 이름을 지정\n",
    "# 각 위치에서 한 번에 이동할 수 있는 모든 위치를 선으로 연결하여 그래프로 표현\n",
    "maze = {\n",
    "    'a' : ['e'],\n",
    "    'b' : ['c', 'f'],\n",
    "    'c' : ['b', 'd'],\n",
    "    'd' : ['c'],\n",
    "    'e' : ['a', 'i'],\n",
    "    'f' : ['b', 'g', 'j'],\n",
    "    'g' : ['f', 'h'],\n",
    "    'h' : ['g', 'l'],\n",
    "    'i' : ['e', 'm'],\n",
    "    'j' : ['f', 'k', 'n'],\n",
    "    'k' : ['j', 'o'],\n",
    "    'l' : ['h', 'p'],\n",
    "    'm' : ['i', 'n'],\n",
    "    'n' : ['m', 'j'],\n",
    "    'o' : ['k'],\n",
    "    'p' : ['l']\n",
    "}\n",
    "\n",
    "print(solve_maze(maze, 'a', 'p'))"
   ]
  },
  {
   "cell_type": "markdown",
   "metadata": {},
   "source": [
    "# 문제 17 가짜 동전 찾기 알고리즘"
   ]
  },
  {
   "cell_type": "markdown",
   "metadata": {},
   "source": [
    "### 가짜 동전을 찾는 알고리즘 1\n",
    "\n",
    "하나씩 비교하기"
   ]
  },
  {
   "cell_type": "code",
   "execution_count": 8,
   "metadata": {},
   "outputs": [
    {
     "name": "stdout",
     "output_type": "stream",
     "text": [
      "29\n"
     ]
    }
   ],
   "source": [
    "# 주어진 동전 n개 중에 가짜 동전(fake)을 찾아내는 알고리즘\n",
    "# 입력: 전체 동전 위치의 시작과 끝(0, n-1)\n",
    "# 출력: 가짜 동전의 위치 번호\n",
    "\n",
    "# 무게 재기 함수\n",
    "# a에서 b까지 놓인 동전과\n",
    "# c에서 d까지 놓인 동전의 무게를 비교\n",
    "# a에서 b까지에 가짜 동전이 있으면(가벼우면): -1\n",
    "# c에서 d까지에 가짜 동전이 있으면(가벼우면): 1\n",
    "# 가짜 동전이 없으면(양쪽 무게가 같으면): 0\n",
    "\n",
    "def weigh(a, b, c, d):\n",
    "    fake = 29   # 가짜 동전의 위치(알고리즘 weigh() 함수를 이용하여 이 값을 맞혀야 함)\n",
    "    if a <= fake and fake <= b:\n",
    "        return -1\n",
    "    if c <= fake and fake <= d:\n",
    "        return 1\n",
    "    return 0\n",
    "\n",
    "# weigh() 함수(저울질)를 이용하여\n",
    "# left에서 right까지에 놓인 가짜 동전의 위치를 찾아냄\n",
    "def find_fakecoin(left, right):\n",
    "    for i in range(left+1, right+1):    # left+1 부터 right까지 반복\n",
    "        # 가장 왼쪽 동전과 나머지 동전을 차례로 비교\n",
    "        result = weigh(left, left, i, i)\n",
    "        if result == -1:    # left 동전이 가벼움(left 동전이 가짜)\n",
    "            return left\n",
    "        elif result == 1:   # i 동전이 가벼움(i 동전이 가짜)\n",
    "            return i\n",
    "        # 두 동전의 무게가 같으면 다음 동전으로\n",
    "\n",
    "    # 모든 동전의 무게가 같으면 가짜 동전이 없는 예외 경우\n",
    "    return -1\n",
    "\n",
    "n = 100     # 전체 동전 개수\n",
    "print(find_fakecoin(0, n-1))"
   ]
  },
  {
   "cell_type": "markdown",
   "metadata": {},
   "source": [
    "### 가짜 동전을 찾는 알고리즘 2\n",
    "\n",
    "반씩 그룹으로 나누어 비교하기"
   ]
  },
  {
   "cell_type": "code",
   "execution_count": 10,
   "metadata": {},
   "outputs": [
    {
     "name": "stdout",
     "output_type": "stream",
     "text": [
      "29\n"
     ]
    }
   ],
   "source": [
    "# 주어진 동전 n개 중에 가짜 동전(fake)을 찾아내는 알고리즘\n",
    "# 입력: 전체 동전 위치의 시작과 끝(0, n-1)\n",
    "# 출력: 가짜 동전의 위치 번호\n",
    "\n",
    "# 무게 재기 함수\n",
    "# a에서 b까지 놓인 동전과\n",
    "# c에서 d까지 놓인 동전의 무게를 비교\n",
    "# a에서 b까지에 가짜 동전이 있으면(가벼우면): -1\n",
    "# c에서 d까지에 가짜 동전이 있으면(가벼우면): 1\n",
    "# 가짜 동전이 없으면(양쪽 무게가 같으면): 0\n",
    "\n",
    "from unittest import result\n",
    "\n",
    "\n",
    "def weigh(a, b, c, d):\n",
    "    fake = 29   # 가짜 동전의 위치(알고리즘 weigh() 함수를 이용하여 이 값을 맞혀야 함)\n",
    "    if a <= fake and fake <= b:\n",
    "        return -1\n",
    "    if c <= fake and fake <= d:\n",
    "        return 1\n",
    "    return 0\n",
    "\n",
    "# weigh() 함수(저울질)를 이용하여\n",
    "# left에서 right까지에 놓인 가짜 동전의 위치를 찾아냄\n",
    "def find_fakecoin(left, right):\n",
    "    # 종료 조건: 가짜 동전이 있을 범위 안에 동전이 한 개뿐이면 그 동전이 가짜 동전임\n",
    "    if left == right:\n",
    "        return left\n",
    "    # left에서 right까지에 놓인 동전을 두 그룹(g1_left ~ g1_right, g2_left ~ g2_right)으로 나눔\n",
    "    # 동전 수가 홀수면 두 그룹으로 나누고 한 개가 남음\n",
    "    half = (right - left + 1) // 2  # 99 - 0 + 1 // 2 = 50\n",
    "    g1_left = left  # 0\n",
    "    g1_right = left + half - 1  # 0 + 50 - 1 = 49\n",
    "    g2_left = left + half   # 0 + 50 = 50\n",
    "    g2_right = g2_left + half - 1   # 50 + 50 - 1 = 99\n",
    "    # 나눠진 두 그룹을 weigh() 함수를 이용하여 저울질함\n",
    "    result = weigh(g1_left, g1_right, g2_left, g2_right)\n",
    "    if result == -1:    # 그룹 1이 가벼움(가짜 동전이 이 그룹에 있음)\n",
    "        # 그룹 1 범위를 재귀 호출로 다시 조사\n",
    "        return find_fakecoin(g1_left, g1_right)\n",
    "    elif result == 1:   # 그룹 2가 가벼움(가짜 동전이 이 그룹에 있음)\n",
    "        # 그룹 2 범위를 재귀 호출로 다시 조사\n",
    "        return find_fakecoin(g2_left, g2_right)\n",
    "    else:   # 두 그룹의 무게가 같으면(나뉜 두 그룹 안에 가짜 동전이 없다면)\n",
    "        return right    # 두 그룹으로 나뉘지 않고 남은 나머지 한 개의 동전이 가짜 동전임\n",
    "\n",
    "n = 100     # 전체 동전 개수\n",
    "print(find_fakecoin(0, n-1))"
   ]
  },
  {
   "cell_type": "markdown",
   "metadata": {},
   "source": [
    "# 문제 18 최대 수익 알고리즘"
   ]
  },
  {
   "cell_type": "markdown",
   "metadata": {},
   "source": [
    "### 최대 수익을 구하는 알고리즘 1\n",
    "\n",
    "가능한 모든 경우를 비교하기"
   ]
  },
  {
   "cell_type": "code",
   "execution_count": 11,
   "metadata": {},
   "outputs": [
    {
     "name": "stdout",
     "output_type": "stream",
     "text": [
      "2400\n"
     ]
    }
   ],
   "source": [
    "# 주어진 주식 가격을 보고 얻을 수 있는 최대 수익을 구하는 알고리즘\n",
    "# 입력: 주식 가격의 변화 값(리스트: prices)\n",
    "# 출력: 한 주를 한 번 사고팔아 얻을 수 있는 최대 수익 값\n",
    "\n",
    "def max_profit(prices):\n",
    "    n = len(prices)\n",
    "    max_profit = 0  # 최대 수익은 항상 0 이상의 값\n",
    "\n",
    "    for i in range(0, n-1):\n",
    "        for j in range(i+1, n):\n",
    "            # i날에 사서 j날에 팔았을 때 얻을 수 있는 수익\n",
    "            profit = prices[j] - prices[i]\n",
    "            # 이 수익이 지금까지 최대 수익보다 크면 값을 고침\n",
    "            if profit > max_profit:\n",
    "                max_profit = profit\n",
    "\n",
    "    return max_profit\n",
    "\n",
    "stock = [10300, 9600, 9800, 8200, 7800, 8300, 9500, 10200, 9500]\n",
    "print(max_profit(stock))"
   ]
  },
  {
   "cell_type": "markdown",
   "metadata": {},
   "source": [
    "### 최대 수익을 구하는 알고리즘 2\n",
    "\n",
    "한 번 반복으로 최대 수익 찾기"
   ]
  },
  {
   "cell_type": "code",
   "execution_count": 12,
   "metadata": {},
   "outputs": [
    {
     "name": "stdout",
     "output_type": "stream",
     "text": [
      "2400\n"
     ]
    }
   ],
   "source": [
    "# 주어진 주식 가격을 보고 얻을 수 있는 최대 수익을 구하는 알고리즘\n",
    "# 입력: 주식 가격의 변화 값(리스트: prices)\n",
    "# 출력: 한 주를 한 번 사고팔아 얻을 수 있는 최대 수익 값\n",
    "\n",
    "def max_profit(prices):\n",
    "    n = len(prices)\n",
    "    max_profit = 0      # 최대 수익은 항상 0 이상의 값\n",
    "    min_price = prices[0]   # 첫째 날의 주가를 주가의 최솟값으로 기억\n",
    "    for i in range(1, n):   # 1부터 n-1까지 반복\n",
    "        # 지금까지의 최솟값에 주식을 사서 i날에 팔 때의 수익\n",
    "        profit = prices[i] - min_price\n",
    "        if profit > max_profit:     # 이 수익이 지금까지 최대 수익보다 크면 값을 고침\n",
    "            max_profit = profit\n",
    "        if prices[i] < min_price:   # i날 주가가 최솟값보다 작으면 값을 고침\n",
    "            min_price = prices[i]\n",
    "\n",
    "    return max_profit\n",
    "\n",
    "stock = [10300, 9600, 9800, 8200, 7800, 8300, 9500, 10200, 9500]\n",
    "print(max_profit(stock))"
   ]
  }
 ],
 "metadata": {
  "kernelspec": {
   "display_name": "Python 3.10.8 64-bit",
   "language": "python",
   "name": "python3"
  },
  "language_info": {
   "codemirror_mode": {
    "name": "ipython",
    "version": 3
   },
   "file_extension": ".py",
   "mimetype": "text/x-python",
   "name": "python",
   "nbconvert_exporter": "python",
   "pygments_lexer": "ipython3",
   "version": "3.10.8"
  },
  "orig_nbformat": 4,
  "vscode": {
   "interpreter": {
    "hash": "459379b0327d72ca66be0fe01f6908cca082871864cba1a5058123f25a1566bd"
   }
  }
 },
 "nbformat": 4,
 "nbformat_minor": 2
}
