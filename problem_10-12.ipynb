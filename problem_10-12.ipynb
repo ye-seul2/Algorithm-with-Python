{
 "cells": [
  {
   "cell_type": "markdown",
   "metadata": {},
   "source": [
    "# 문제 10 병합 정렬"
   ]
  },
  {
   "cell_type": "markdown",
   "metadata": {},
   "source": [
    "### 쉽게 설명한 병합 정렬 알고리즘"
   ]
  },
  {
   "cell_type": "code",
   "execution_count": 1,
   "metadata": {},
   "outputs": [
    {
     "name": "stdout",
     "output_type": "stream",
     "text": [
      "[1, 2, 3, 4, 5, 6, 7, 8, 9, 10]\n"
     ]
    }
   ],
   "source": [
    "# 쉽게 설명한 병합 정렬\n",
    "# 입력: 리스트 a\n",
    "# 출력: 정렬된 새 리스트\n",
    "\n",
    "from unittest import result\n",
    "\n",
    "\n",
    "def merge_sort(a):\n",
    "    n = len(a)\n",
    "    # 종료 조건: 정렬할 리스트의 자료 개수가 한 개 이하이면 정렬할 필요 없음\n",
    "    if n <= 1:\n",
    "        return a\n",
    "    # 그룹을 나누어 각각 병합 정렬을 호출하는 과정\n",
    "    mid = n // 2    # 중간을 기준으로 두 그룹으로 나눔\n",
    "    g1 = merge_sort(a[:mid])    # 재귀 호출로 첫 번째 그룹을 정렬\n",
    "    g2 = merge_sort(a[mid:])    # 재귀 호출로 두 번째 그룹을 정렬\n",
    "    # 두 그룹을 하나로 병합\n",
    "    result = []     # 두 그룹을 합쳐 만들 최종 결과\n",
    "    while g1 and g2:    # 두 그룹에 모두 자료가 남아 있는 동안 반복\n",
    "        if g1[0] < g2[0]:   # 두 그룹의 맨 앞 자료 값을 비교\n",
    "            # g1 값이 더 작으면 그 값을 빼내어 결과로 추가\n",
    "            result.append(g1.pop(0))\n",
    "        else:\n",
    "            # g2 값이 더 작으면 그 값을 빼내어 결과로 추가\n",
    "            result.append(g2.pop(0))\n",
    "    # 아직 남아 있는 자료들을 결과에 추가\n",
    "    # g1과 g2 중 이미 빈 것은 while을 바로 지나감\n",
    "    while g1:\n",
    "        result.append(g1.pop(0))\n",
    "    while g2:\n",
    "        result.append(g2.pop(0))\n",
    "    return result\n",
    "\n",
    "d = [6, 8, 3, 9, 10, 1, 2, 4, 7, 5]\n",
    "print(merge_sort(d))"
   ]
  },
  {
   "cell_type": "markdown",
   "metadata": {},
   "source": [
    "### 일반적인 병합 정렬 알고리즘 프로그램"
   ]
  },
  {
   "cell_type": "code",
   "execution_count": 2,
   "metadata": {},
   "outputs": [
    {
     "name": "stdout",
     "output_type": "stream",
     "text": [
      "[1, 2, 3, 4, 5, 6, 7, 8, 9, 10]\n"
     ]
    }
   ],
   "source": [
    "# 병합 정렬\n",
    "# 입력: 리스트 a\n",
    "# 출력: 없음(입력으로 주어진 a가 정렬됨)\n",
    "\n",
    "def merge_sort(a):\n",
    "    n = len(a)\n",
    "    # 종료 조건: 정렬할 리스트의 자료 개수가 한 개 이하이면 정렬할 필요가 없음\n",
    "    if n <= 1:\n",
    "        return a\n",
    "    # 그룹을 나누어 각각 병합 정렬을 호출하는 과정\n",
    "    mid = n // 2    # 중간을 기준으로 두 그룹으로 나눔\n",
    "    g1 = a[:mid]\n",
    "    g2 = a[mid:]\n",
    "    merge_sort(g1)  # 재귀 호출로 첫 번째 그룹을 정렬\n",
    "    merge_sort(g2)  # 재귀 호출로 두 번째 그룹을 정렬\n",
    "    # 두 그룹을 하나로 병합\n",
    "    i1 = 0\n",
    "    i2 = 0\n",
    "    ia = 0\n",
    "    while i1 < len(g1) and i2 < len(g2):\n",
    "        if g1[i1] < g2[i2]:\n",
    "            a[ia] = g1[i1]\n",
    "            i1 += 1\n",
    "            ia += 1\n",
    "        else:\n",
    "            a[ia] = g2[i2]\n",
    "            i2 += 1\n",
    "            ia += 1\n",
    "    # 아직 남아 있는 자료들을 결과에 추가\n",
    "    while i1 < len(g1):\n",
    "        a[ia] = g1[i1]\n",
    "        i1 += 1\n",
    "        ia += 1\n",
    "    while i2 < len(g2):\n",
    "        a[ia] = g2[i2]\n",
    "        i2 += 1\n",
    "        ia += 1\n",
    "\n",
    "d = [6, 8, 3, 9, 10, 1, 2, 4, 7, 5]\n",
    "merge_sort(d)\n",
    "print(d)\n"
   ]
  },
  {
   "cell_type": "markdown",
   "metadata": {},
   "source": [
    "## 연습 문제"
   ]
  },
  {
   "cell_type": "markdown",
   "metadata": {},
   "source": [
    "내림차순 병합 정렬"
   ]
  },
  {
   "cell_type": "code",
   "execution_count": 4,
   "metadata": {},
   "outputs": [
    {
     "name": "stdout",
     "output_type": "stream",
     "text": [
      "[10, 9, 8, 7, 6, 5, 4, 3, 2, 1]\n"
     ]
    }
   ],
   "source": [
    "# 내림차순 병합 정렬\n",
    "# 입력: 리스트 a\n",
    "# 출력: 없음(입력으로 주어진 a가 정렬됨)\n",
    "\n",
    "def merge_sort(a):\n",
    "    n = len(a)\n",
    "    # 종료 조건: 정렬할 리스트의 자료 개수가 한 개 이하이면 정렬할 필요가 없음\n",
    "    if n <= 1:\n",
    "        return a\n",
    "    # 그룹을 나누어 각각 병합 정렬을 호출하는 과정\n",
    "    mid = n // 2    # 중간을 기준으로 두 그룹으로 나눔\n",
    "    g1 = a[:mid]\n",
    "    g2 = a[mid:]\n",
    "    merge_sort(g1)  # 재귀 호출로 첫 번째 그룹을 정렬\n",
    "    merge_sort(g2)  # 재귀 호출로 두 번째 그룹을 정렬\n",
    "    # 두 그룹을 하나로 병합\n",
    "    i1 = 0\n",
    "    i2 = 0\n",
    "    ia = 0\n",
    "    while i1 < len(g1) and i2 < len(g2):\n",
    "        if g1[i1] > g2[i2]:     # 부등호 방향 뒤집기\n",
    "            a[ia] = g1[i1]\n",
    "            i1 += 1\n",
    "            ia += 1\n",
    "        else:\n",
    "            a[ia] = g2[i2]\n",
    "            i2 += 1\n",
    "            ia += 1\n",
    "    # 아직 남아 있는 자료들을 결과에 추가\n",
    "    while i1 < len(g1):\n",
    "        a[ia] = g1[i1]\n",
    "        i1 += 1\n",
    "        ia += 1\n",
    "    while i2 < len(g2):\n",
    "        a[ia] = g2[i2]\n",
    "        i2 += 1\n",
    "        ia += 1\n",
    "\n",
    "d = [6, 8, 3, 9, 10, 1, 2, 4, 7, 5]\n",
    "merge_sort(d)\n",
    "print(d)"
   ]
  },
  {
   "cell_type": "markdown",
   "metadata": {},
   "source": [
    "# 문제 11 퀵 정렬"
   ]
  },
  {
   "cell_type": "markdown",
   "metadata": {},
   "source": [
    "### 쉽게 설명한 퀵 정렬 알고리즘"
   ]
  },
  {
   "cell_type": "code",
   "execution_count": 3,
   "metadata": {},
   "outputs": [
    {
     "name": "stdout",
     "output_type": "stream",
     "text": [
      "[1, 2, 3, 4, 5, 6, 7, 8, 9, 10]\n"
     ]
    }
   ],
   "source": [
    "# 쉽게 설명한 퀵 정렬\n",
    "# 입력: 리스트 a\n",
    "# 출력: 정렬된 새 리스트\n",
    "\n",
    "def quick_sort(a):\n",
    "    n = len(a)\n",
    "    # 종료 조건: 정렬할 리스트의 자료 개수가 한 개 이하이면 정렬할 필요가 없음\n",
    "    if n <= 1:\n",
    "        return a\n",
    "    # 기준 값을 정하고 기준에 맞춰 그룹을 나누는 과정\n",
    "    pivot = a[-1]   # 편의상 리스트의 마지막 값을 기준 값으로 정함\n",
    "    g1 = []     # 그룹 1: 기준 값보다 작은 값을 담을 리스트\n",
    "    g2 = []     # 그룹 2: 기준 값보다 큰 값을 담을 리스트\n",
    "    for i in range(0, n-1): # 마지막 값은 기준 값이므로 제외\n",
    "        if a[i] < pivot:    # 기준 값과 비교\n",
    "            g1.append(a[i]) # 작으면 g1에 추가\n",
    "        else:\n",
    "            g2.append(a[i]) # 크면 g2에 추가\n",
    "    # 각 그룹에 대해 재귀 호출로 퀵 정렬을 한 후\n",
    "    # 기준 값과 합쳐 하나의 리스트로 결괏값 반환\n",
    "    return quick_sort(g1) + [pivot] + quick_sort(g2)\n",
    "\n",
    "d = [6, 8, 3, 9, 10, 1, 2, 4, 7, 5]\n",
    "print(quick_sort(d))"
   ]
  },
  {
   "cell_type": "markdown",
   "metadata": {},
   "source": [
    "### 일반적인 퀵 정렬 알고리즘"
   ]
  },
  {
   "cell_type": "code",
   "execution_count": 7,
   "metadata": {},
   "outputs": [
    {
     "name": "stdout",
     "output_type": "stream",
     "text": [
      "[1, 2, 3, 4, 5, 6, 7, 8, 9, 10]\n"
     ]
    }
   ],
   "source": [
    "# 퀵 정렬\n",
    "# 입력: 리스트 a\n",
    "# 출력: 없음(입력으로 주어진 a가 정렬됨)\n",
    "# 리스트 a에서 어디부터(start) 어디까지(end)가 정렬 대상인지\n",
    "# 범위를 지정하여 정렬하는 재귀 호출 함수\n",
    "\n",
    "def quick_sort_sub(a, start, end):\n",
    "    # 종료 조건: 정렬 대상이 한 개 이하이면 정렬할 필요가 없음\n",
    "    if end - start <= 0:\n",
    "        return \n",
    "    # 기준 값을 정하고 기준 값에 맞춰 리스트 안에서 각 자료의 위치를 맞춤\n",
    "    # [기준 값보다 작은 값들, 기준 값, 기준 값보다 큰 값들]\n",
    "    pivot = a[end]  # 편의상 리스트의 마지막 값을 기준 값으로 정함\n",
    "    i = start\n",
    "    for j in range(start, end):\n",
    "        if a[j] <= pivot:\n",
    "            a[i], a[j] = a[j], a[i]\n",
    "            i += 1\n",
    "    a[i], a[end] = a[end], a[i]\n",
    "    # 재귀 호출 부분\n",
    "    quick_sort_sub(a, start, i-1)   # 기준 값보다 작은 그룹을 재귀 호출로 다시 정렬\n",
    "    quick_sort_sub(a, i+1, end)     # 기준 값보다 큰 그룹을 재귀 호출로 다시 정렬\n",
    "\n",
    "# 리스트 전체(0 ~ len(a)-1)를 대상으로 재귀 호출 함수 호출\n",
    "def quick_sort(a):\n",
    "    quick_sort_sub(a, 0, len(a)-1)\n",
    "\n",
    "d = [6, 8, 3, 9, 10, 1, 2, 4, 7, 5]\n",
    "quick_sort(d)\n",
    "print(d)"
   ]
  },
  {
   "cell_type": "markdown",
   "metadata": {},
   "source": [
    "## 연습 문제"
   ]
  },
  {
   "cell_type": "markdown",
   "metadata": {},
   "source": [
    "거품 정렬"
   ]
  },
  {
   "cell_type": "code",
   "execution_count": 8,
   "metadata": {},
   "outputs": [
    {
     "name": "stdout",
     "output_type": "stream",
     "text": [
      "[2, 4, 5, 1, 3]\n",
      "[2, 4, 1, 5, 3]\n",
      "[2, 4, 1, 3, 5]\n",
      "[2, 1, 4, 3, 5]\n",
      "[2, 1, 3, 4, 5]\n",
      "[1, 2, 3, 4, 5]\n"
     ]
    }
   ],
   "source": [
    "# 거품 정렬\n",
    "# 입력: 리스트 a\n",
    "# 출력: 없음(입력으로 주어진 a가 정렬됨)\n",
    "\n",
    "def bubble_sort(a):\n",
    "    n = len(a)\n",
    "    while True:     # 정렬이 완료될 때까지 계속 수행\n",
    "        changed = False     # 자료를 앞뒤로 바꾸었는지 여부\n",
    "        # 자료를 훑어보면서 뒤집힌 자료가 있으면 바꾸고 바뀌었다고 표시\n",
    "        for i in range(0, n-1):\n",
    "            if a[i] > a[i+1]:   # 앞이 뒤보다 크면\n",
    "                print(a)        # 정렬 과정 출력(참고용)\n",
    "                a[i], a[i+1] = a[i+1], a[i]     # 두 자료의 위치를 맞바꿈\n",
    "                changed = True  # 자료가 앞뒤로 바뀌었음을 기록\n",
    "        # 자료를 한 번 훑어보는 동안 바뀐 적이 없다면 정렬이 완성된 것이므로 종료\n",
    "        # 바뀐 적이 있으면 다시 앞에서부터 비교 반복\n",
    "        if changed == False:\n",
    "            return\n",
    "\n",
    "d = [2, 4, 5, 1, 3]\n",
    "bubble_sort(d)\n",
    "print(d)"
   ]
  },
  {
   "cell_type": "markdown",
   "metadata": {},
   "source": [
    "# 문제 12 이분 탐색"
   ]
  },
  {
   "cell_type": "markdown",
   "metadata": {},
   "source": [
    "### 이분 탐색 알고리즘"
   ]
  },
  {
   "cell_type": "code",
   "execution_count": 9,
   "metadata": {},
   "outputs": [
    {
     "name": "stdout",
     "output_type": "stream",
     "text": [
      "5\n",
      "-1\n"
     ]
    }
   ],
   "source": [
    "# 리스트에서 특정 숫자 위치 찾기(이분 탐색)\n",
    "# 입력: 리스트 a, 찾는 값 x\n",
    "# 출력: 찾으면 그 값의 위치, 찾지 못하면 -1\n",
    "\n",
    "def binary_search(a, x):\n",
    "    # 탐색할 범위를 저장하는 변수 start, end\n",
    "    # 리스트 전체를 범위로 탐색 시작(0 ~ len(a)-1)\n",
    "    start = 0\n",
    "    end = len(a) -1\n",
    "\n",
    "    while start <= end:     # 탐색할 범위가 남아 있는 동안 반복\n",
    "        mid = (start + end) // 2    # 탐색 범위의 중간 위치\n",
    "        if x == a[mid]:     # 발견!\n",
    "            return mid\n",
    "        elif x > a[mid]:    # 찾는 값이 더 크면 오른쪽으로 범위를 좁혀 계속 탐색\n",
    "            start = mid + 1\n",
    "        else:               # 찾는 값이 더 작으면 왼쪽으로 범위를 좁혀 계속 탐색\n",
    "            end = mid -1\n",
    "    \n",
    "    return -1       # 찾지 못했을 때\n",
    "\n",
    "d = [1, 4, 9, 16, 25, 36, 49, 64, 81]\n",
    "print(binary_search(d, 36))\n",
    "print(binary_search(d, 50))"
   ]
  },
  {
   "cell_type": "markdown",
   "metadata": {},
   "source": [
    "## 연습 문제"
   ]
  },
  {
   "cell_type": "markdown",
   "metadata": {},
   "source": [
    "재귀 호출을 이용한 이분 탐색"
   ]
  },
  {
   "cell_type": "code",
   "execution_count": 10,
   "metadata": {},
   "outputs": [
    {
     "name": "stdout",
     "output_type": "stream",
     "text": [
      "5\n",
      "-1\n"
     ]
    }
   ],
   "source": [
    "# 리스트에서 특정 숫자 위치 찾기(이분 탐색과 재귀 호출)\n",
    "# 입력: 리스트 a, 찾는 값 x\n",
    "# 출력: 특정 숫자를 찾으면 그 값의 위치, 찾지 못하면 -1\n",
    "\n",
    "# 리스트 a의 어디부터(start) 어디까지(end)가 탐색 범위인지 지정하여\n",
    "# 그 범위 안에서 x를 찾는 재귀 함수\n",
    "\n",
    "def binary_search_sub(a, x, start, end):\n",
    "    # 종료 조건: 남은 탐색 범위가 비었으면 종료\n",
    "    if start > end:\n",
    "        return -1\n",
    "\n",
    "    mid = (start + end) // 2    # 탐색 범위의 중간 위치\n",
    "    if x == a[mid]:     # 발견!\n",
    "        return mid\n",
    "    elif x > a[mid]:    # 찾는 값이 더 크면 중간을 기준으로 오른쪽 값을 대상으로 재귀 호출\n",
    "        return binary_search_sub(a, x, mid+1, end)\n",
    "    else:               # 찾는 값이 더 작으면 중간을 기준으로 왼쪽 값을 대상으로 재귀 호출\n",
    "        return binary_search_sub(a, x, start, mid-1)\n",
    "\n",
    "    return -1           # 찾지 못했을 때\n",
    "\n",
    "# 리스트 전체(0 ~ len(a)-1)를 대상으로 재귀 호출 함수 호출\n",
    "def binary_search(a, x):\n",
    "    return binary_search_sub(a, x, 0, len(a)-1)\n",
    "\n",
    "d = [1, 4, 9, 16, 25, 36, 49, 64, 81]\n",
    "print(binary_search(d, 36))\n",
    "print(binary_search(d, 50)) "
   ]
  }
 ],
 "metadata": {
  "kernelspec": {
   "display_name": "Python 3.10.8 64-bit",
   "language": "python",
   "name": "python3"
  },
  "language_info": {
   "codemirror_mode": {
    "name": "ipython",
    "version": 3
   },
   "file_extension": ".py",
   "mimetype": "text/x-python",
   "name": "python",
   "nbconvert_exporter": "python",
   "pygments_lexer": "ipython3",
   "version": "3.10.8"
  },
  "orig_nbformat": 4,
  "vscode": {
   "interpreter": {
    "hash": "459379b0327d72ca66be0fe01f6908cca082871864cba1a5058123f25a1566bd"
   }
  }
 },
 "nbformat": 4,
 "nbformat_minor": 2
}
